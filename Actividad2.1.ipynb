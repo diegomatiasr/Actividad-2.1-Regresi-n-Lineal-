{
 "cells": [
  {
   "cell_type": "markdown",
   "metadata": {},
   "source": [
    "# Actividad 2.1\n",
    "## Diego Matias Rossano | A01737509"
   ]
  },
  {
   "cell_type": "code",
   "execution_count": 1,
   "metadata": {},
   "outputs": [
    {
     "name": "stdout",
     "output_type": "stream",
     "text": [
      "Requirement already satisfied: funpymodeling in /Library/Frameworks/Python.framework/Versions/3.12/lib/python3.12/site-packages (0.1.9)\n",
      "Requirement already satisfied: flake8<7.0.0,>=6.0.0 in /Library/Frameworks/Python.framework/Versions/3.12/lib/python3.12/site-packages (from funpymodeling) (6.1.0)\n",
      "Requirement already satisfied: jupyter<2.0.0,>=1.0.0 in /Library/Frameworks/Python.framework/Versions/3.12/lib/python3.12/site-packages (from funpymodeling) (1.1.1)\n",
      "Requirement already satisfied: matplotlib<4.0.0,>=3.7.1 in /Library/Frameworks/Python.framework/Versions/3.12/lib/python3.12/site-packages (from funpymodeling) (3.10.1)\n",
      "Requirement already satisfied: numpy<2.0.0,>=1.26.2 in /Library/Frameworks/Python.framework/Versions/3.12/lib/python3.12/site-packages (from funpymodeling) (1.26.4)\n",
      "Requirement already satisfied: pandas<3.0.0,>=2.1.4 in /Library/Frameworks/Python.framework/Versions/3.12/lib/python3.12/site-packages (from funpymodeling) (2.2.3)\n",
      "Requirement already satisfied: pre-commit<4.0.0,>=3.3.2 in /Library/Frameworks/Python.framework/Versions/3.12/lib/python3.12/site-packages (from funpymodeling) (3.8.0)\n",
      "Requirement already satisfied: pytest<8.0.0,>=7.3.1 in /Library/Frameworks/Python.framework/Versions/3.12/lib/python3.12/site-packages (from funpymodeling) (7.4.4)\n",
      "Requirement already satisfied: scikit-learn<2.0.0,>=1.2.2 in /Library/Frameworks/Python.framework/Versions/3.12/lib/python3.12/site-packages (from funpymodeling) (1.6.1)\n",
      "Requirement already satisfied: seaborn<0.13.0,>=0.12.2 in /Library/Frameworks/Python.framework/Versions/3.12/lib/python3.12/site-packages (from funpymodeling) (0.12.2)\n",
      "Requirement already satisfied: typing-extensions<5.0.0,>=4.6.3 in /Library/Frameworks/Python.framework/Versions/3.12/lib/python3.12/site-packages (from funpymodeling) (4.12.2)\n",
      "Requirement already satisfied: mccabe<0.8.0,>=0.7.0 in /Library/Frameworks/Python.framework/Versions/3.12/lib/python3.12/site-packages (from flake8<7.0.0,>=6.0.0->funpymodeling) (0.7.0)\n",
      "Requirement already satisfied: pycodestyle<2.12.0,>=2.11.0 in /Library/Frameworks/Python.framework/Versions/3.12/lib/python3.12/site-packages (from flake8<7.0.0,>=6.0.0->funpymodeling) (2.11.1)\n",
      "Requirement already satisfied: pyflakes<3.2.0,>=3.1.0 in /Library/Frameworks/Python.framework/Versions/3.12/lib/python3.12/site-packages (from flake8<7.0.0,>=6.0.0->funpymodeling) (3.1.0)\n",
      "Requirement already satisfied: notebook in /Library/Frameworks/Python.framework/Versions/3.12/lib/python3.12/site-packages (from jupyter<2.0.0,>=1.0.0->funpymodeling) (7.3.3)\n",
      "Requirement already satisfied: jupyter-console in /Library/Frameworks/Python.framework/Versions/3.12/lib/python3.12/site-packages (from jupyter<2.0.0,>=1.0.0->funpymodeling) (6.6.3)\n",
      "Requirement already satisfied: nbconvert in /Library/Frameworks/Python.framework/Versions/3.12/lib/python3.12/site-packages (from jupyter<2.0.0,>=1.0.0->funpymodeling) (7.16.6)\n",
      "Requirement already satisfied: ipykernel in /Users/diegomatiasr/Library/Python/3.12/lib/python/site-packages (from jupyter<2.0.0,>=1.0.0->funpymodeling) (6.29.5)\n",
      "Requirement already satisfied: ipywidgets in /Library/Frameworks/Python.framework/Versions/3.12/lib/python3.12/site-packages (from jupyter<2.0.0,>=1.0.0->funpymodeling) (8.1.5)\n",
      "Requirement already satisfied: jupyterlab in /Library/Frameworks/Python.framework/Versions/3.12/lib/python3.12/site-packages (from jupyter<2.0.0,>=1.0.0->funpymodeling) (4.3.6)\n",
      "Requirement already satisfied: contourpy>=1.0.1 in /Library/Frameworks/Python.framework/Versions/3.12/lib/python3.12/site-packages (from matplotlib<4.0.0,>=3.7.1->funpymodeling) (1.3.1)\n",
      "Requirement already satisfied: cycler>=0.10 in /Library/Frameworks/Python.framework/Versions/3.12/lib/python3.12/site-packages (from matplotlib<4.0.0,>=3.7.1->funpymodeling) (0.12.1)\n",
      "Requirement already satisfied: fonttools>=4.22.0 in /Library/Frameworks/Python.framework/Versions/3.12/lib/python3.12/site-packages (from matplotlib<4.0.0,>=3.7.1->funpymodeling) (4.56.0)\n",
      "Requirement already satisfied: kiwisolver>=1.3.1 in /Library/Frameworks/Python.framework/Versions/3.12/lib/python3.12/site-packages (from matplotlib<4.0.0,>=3.7.1->funpymodeling) (1.4.8)\n",
      "Requirement already satisfied: packaging>=20.0 in /Users/diegomatiasr/Library/Python/3.12/lib/python/site-packages (from matplotlib<4.0.0,>=3.7.1->funpymodeling) (24.2)\n",
      "Requirement already satisfied: pillow>=8 in /Library/Frameworks/Python.framework/Versions/3.12/lib/python3.12/site-packages (from matplotlib<4.0.0,>=3.7.1->funpymodeling) (11.1.0)\n",
      "Requirement already satisfied: pyparsing>=2.3.1 in /Library/Frameworks/Python.framework/Versions/3.12/lib/python3.12/site-packages (from matplotlib<4.0.0,>=3.7.1->funpymodeling) (3.2.2)\n",
      "Requirement already satisfied: python-dateutil>=2.7 in /Users/diegomatiasr/Library/Python/3.12/lib/python/site-packages (from matplotlib<4.0.0,>=3.7.1->funpymodeling) (2.9.0.post0)\n",
      "Requirement already satisfied: pytz>=2020.1 in /Library/Frameworks/Python.framework/Versions/3.12/lib/python3.12/site-packages (from pandas<3.0.0,>=2.1.4->funpymodeling) (2025.1)\n",
      "Requirement already satisfied: tzdata>=2022.7 in /Library/Frameworks/Python.framework/Versions/3.12/lib/python3.12/site-packages (from pandas<3.0.0,>=2.1.4->funpymodeling) (2025.2)\n",
      "Requirement already satisfied: cfgv>=2.0.0 in /Library/Frameworks/Python.framework/Versions/3.12/lib/python3.12/site-packages (from pre-commit<4.0.0,>=3.3.2->funpymodeling) (3.4.0)\n",
      "Requirement already satisfied: identify>=1.0.0 in /Library/Frameworks/Python.framework/Versions/3.12/lib/python3.12/site-packages (from pre-commit<4.0.0,>=3.3.2->funpymodeling) (2.6.9)\n",
      "Requirement already satisfied: nodeenv>=0.11.1 in /Library/Frameworks/Python.framework/Versions/3.12/lib/python3.12/site-packages (from pre-commit<4.0.0,>=3.3.2->funpymodeling) (1.9.1)\n",
      "Requirement already satisfied: pyyaml>=5.1 in /Library/Frameworks/Python.framework/Versions/3.12/lib/python3.12/site-packages (from pre-commit<4.0.0,>=3.3.2->funpymodeling) (6.0.2)\n",
      "Requirement already satisfied: virtualenv>=20.10.0 in /Library/Frameworks/Python.framework/Versions/3.12/lib/python3.12/site-packages (from pre-commit<4.0.0,>=3.3.2->funpymodeling) (20.29.3)\n",
      "Requirement already satisfied: iniconfig in /Library/Frameworks/Python.framework/Versions/3.12/lib/python3.12/site-packages (from pytest<8.0.0,>=7.3.1->funpymodeling) (2.1.0)\n",
      "Requirement already satisfied: pluggy<2.0,>=0.12 in /Library/Frameworks/Python.framework/Versions/3.12/lib/python3.12/site-packages (from pytest<8.0.0,>=7.3.1->funpymodeling) (1.5.0)\n",
      "Requirement already satisfied: scipy>=1.6.0 in /Library/Frameworks/Python.framework/Versions/3.12/lib/python3.12/site-packages (from scikit-learn<2.0.0,>=1.2.2->funpymodeling) (1.15.2)\n",
      "Requirement already satisfied: joblib>=1.2.0 in /Library/Frameworks/Python.framework/Versions/3.12/lib/python3.12/site-packages (from scikit-learn<2.0.0,>=1.2.2->funpymodeling) (1.4.2)\n",
      "Requirement already satisfied: threadpoolctl>=3.1.0 in /Library/Frameworks/Python.framework/Versions/3.12/lib/python3.12/site-packages (from scikit-learn<2.0.0,>=1.2.2->funpymodeling) (3.6.0)\n",
      "Requirement already satisfied: six>=1.5 in /Users/diegomatiasr/Library/Python/3.12/lib/python/site-packages (from python-dateutil>=2.7->matplotlib<4.0.0,>=3.7.1->funpymodeling) (1.17.0)\n",
      "Requirement already satisfied: distlib<1,>=0.3.7 in /Library/Frameworks/Python.framework/Versions/3.12/lib/python3.12/site-packages (from virtualenv>=20.10.0->pre-commit<4.0.0,>=3.3.2->funpymodeling) (0.3.9)\n",
      "Requirement already satisfied: filelock<4,>=3.12.2 in /Library/Frameworks/Python.framework/Versions/3.12/lib/python3.12/site-packages (from virtualenv>=20.10.0->pre-commit<4.0.0,>=3.3.2->funpymodeling) (3.18.0)\n",
      "Requirement already satisfied: platformdirs<5,>=3.9.1 in /Users/diegomatiasr/Library/Python/3.12/lib/python/site-packages (from virtualenv>=20.10.0->pre-commit<4.0.0,>=3.3.2->funpymodeling) (4.3.7)\n",
      "Requirement already satisfied: appnope in /Users/diegomatiasr/Library/Python/3.12/lib/python/site-packages (from ipykernel->jupyter<2.0.0,>=1.0.0->funpymodeling) (0.1.4)\n",
      "Requirement already satisfied: comm>=0.1.1 in /Users/diegomatiasr/Library/Python/3.12/lib/python/site-packages (from ipykernel->jupyter<2.0.0,>=1.0.0->funpymodeling) (0.2.2)\n",
      "Requirement already satisfied: debugpy>=1.6.5 in /Users/diegomatiasr/Library/Python/3.12/lib/python/site-packages (from ipykernel->jupyter<2.0.0,>=1.0.0->funpymodeling) (1.8.13)\n",
      "Requirement already satisfied: ipython>=7.23.1 in /Users/diegomatiasr/Library/Python/3.12/lib/python/site-packages (from ipykernel->jupyter<2.0.0,>=1.0.0->funpymodeling) (9.0.2)\n",
      "Requirement already satisfied: jupyter-client>=6.1.12 in /Users/diegomatiasr/Library/Python/3.12/lib/python/site-packages (from ipykernel->jupyter<2.0.0,>=1.0.0->funpymodeling) (8.6.3)\n",
      "Requirement already satisfied: jupyter-core!=5.0.*,>=4.12 in /Users/diegomatiasr/Library/Python/3.12/lib/python/site-packages (from ipykernel->jupyter<2.0.0,>=1.0.0->funpymodeling) (5.7.2)\n",
      "Requirement already satisfied: matplotlib-inline>=0.1 in /Users/diegomatiasr/Library/Python/3.12/lib/python/site-packages (from ipykernel->jupyter<2.0.0,>=1.0.0->funpymodeling) (0.1.7)\n",
      "Requirement already satisfied: nest-asyncio in /Users/diegomatiasr/Library/Python/3.12/lib/python/site-packages (from ipykernel->jupyter<2.0.0,>=1.0.0->funpymodeling) (1.6.0)\n",
      "Requirement already satisfied: psutil in /Users/diegomatiasr/Library/Python/3.12/lib/python/site-packages (from ipykernel->jupyter<2.0.0,>=1.0.0->funpymodeling) (7.0.0)\n",
      "Requirement already satisfied: pyzmq>=24 in /Users/diegomatiasr/Library/Python/3.12/lib/python/site-packages (from ipykernel->jupyter<2.0.0,>=1.0.0->funpymodeling) (26.3.0)\n",
      "Requirement already satisfied: tornado>=6.1 in /Users/diegomatiasr/Library/Python/3.12/lib/python/site-packages (from ipykernel->jupyter<2.0.0,>=1.0.0->funpymodeling) (6.4.2)\n",
      "Requirement already satisfied: traitlets>=5.4.0 in /Users/diegomatiasr/Library/Python/3.12/lib/python/site-packages (from ipykernel->jupyter<2.0.0,>=1.0.0->funpymodeling) (5.14.3)\n",
      "Requirement already satisfied: widgetsnbextension~=4.0.12 in /Library/Frameworks/Python.framework/Versions/3.12/lib/python3.12/site-packages (from ipywidgets->jupyter<2.0.0,>=1.0.0->funpymodeling) (4.0.13)\n",
      "Requirement already satisfied: jupyterlab-widgets~=3.0.12 in /Library/Frameworks/Python.framework/Versions/3.12/lib/python3.12/site-packages (from ipywidgets->jupyter<2.0.0,>=1.0.0->funpymodeling) (3.0.13)\n",
      "Requirement already satisfied: prompt-toolkit>=3.0.30 in /Users/diegomatiasr/Library/Python/3.12/lib/python/site-packages (from jupyter-console->jupyter<2.0.0,>=1.0.0->funpymodeling) (3.0.50)\n",
      "Requirement already satisfied: pygments in /Users/diegomatiasr/Library/Python/3.12/lib/python/site-packages (from jupyter-console->jupyter<2.0.0,>=1.0.0->funpymodeling) (2.19.1)\n",
      "Requirement already satisfied: async-lru>=1.0.0 in /Library/Frameworks/Python.framework/Versions/3.12/lib/python3.12/site-packages (from jupyterlab->jupyter<2.0.0,>=1.0.0->funpymodeling) (2.0.5)\n",
      "Requirement already satisfied: httpx>=0.25.0 in /Library/Frameworks/Python.framework/Versions/3.12/lib/python3.12/site-packages (from jupyterlab->jupyter<2.0.0,>=1.0.0->funpymodeling) (0.28.1)\n",
      "Requirement already satisfied: jinja2>=3.0.3 in /Library/Frameworks/Python.framework/Versions/3.12/lib/python3.12/site-packages (from jupyterlab->jupyter<2.0.0,>=1.0.0->funpymodeling) (3.1.6)\n",
      "Requirement already satisfied: jupyter-lsp>=2.0.0 in /Library/Frameworks/Python.framework/Versions/3.12/lib/python3.12/site-packages (from jupyterlab->jupyter<2.0.0,>=1.0.0->funpymodeling) (2.2.5)\n",
      "Requirement already satisfied: jupyter-server<3,>=2.4.0 in /Library/Frameworks/Python.framework/Versions/3.12/lib/python3.12/site-packages (from jupyterlab->jupyter<2.0.0,>=1.0.0->funpymodeling) (2.15.0)\n",
      "Requirement already satisfied: jupyterlab-server<3,>=2.27.1 in /Library/Frameworks/Python.framework/Versions/3.12/lib/python3.12/site-packages (from jupyterlab->jupyter<2.0.0,>=1.0.0->funpymodeling) (2.27.3)\n",
      "Requirement already satisfied: notebook-shim>=0.2 in /Library/Frameworks/Python.framework/Versions/3.12/lib/python3.12/site-packages (from jupyterlab->jupyter<2.0.0,>=1.0.0->funpymodeling) (0.2.4)\n",
      "Requirement already satisfied: setuptools>=40.8.0 in /Library/Frameworks/Python.framework/Versions/3.12/lib/python3.12/site-packages (from jupyterlab->jupyter<2.0.0,>=1.0.0->funpymodeling) (78.0.2)\n",
      "Requirement already satisfied: beautifulsoup4 in /Library/Frameworks/Python.framework/Versions/3.12/lib/python3.12/site-packages (from nbconvert->jupyter<2.0.0,>=1.0.0->funpymodeling) (4.13.3)\n",
      "Requirement already satisfied: bleach!=5.0.0 in /Library/Frameworks/Python.framework/Versions/3.12/lib/python3.12/site-packages (from bleach[css]!=5.0.0->nbconvert->jupyter<2.0.0,>=1.0.0->funpymodeling) (6.2.0)\n",
      "Requirement already satisfied: defusedxml in /Library/Frameworks/Python.framework/Versions/3.12/lib/python3.12/site-packages (from nbconvert->jupyter<2.0.0,>=1.0.0->funpymodeling) (0.7.1)\n",
      "Requirement already satisfied: jupyterlab-pygments in /Library/Frameworks/Python.framework/Versions/3.12/lib/python3.12/site-packages (from nbconvert->jupyter<2.0.0,>=1.0.0->funpymodeling) (0.3.0)\n",
      "Requirement already satisfied: markupsafe>=2.0 in /Library/Frameworks/Python.framework/Versions/3.12/lib/python3.12/site-packages (from nbconvert->jupyter<2.0.0,>=1.0.0->funpymodeling) (3.0.2)\n",
      "Requirement already satisfied: mistune<4,>=2.0.3 in /Library/Frameworks/Python.framework/Versions/3.12/lib/python3.12/site-packages (from nbconvert->jupyter<2.0.0,>=1.0.0->funpymodeling) (3.1.3)\n",
      "Requirement already satisfied: nbclient>=0.5.0 in /Library/Frameworks/Python.framework/Versions/3.12/lib/python3.12/site-packages (from nbconvert->jupyter<2.0.0,>=1.0.0->funpymodeling) (0.10.2)\n",
      "Requirement already satisfied: nbformat>=5.7 in /Library/Frameworks/Python.framework/Versions/3.12/lib/python3.12/site-packages (from nbconvert->jupyter<2.0.0,>=1.0.0->funpymodeling) (5.10.4)\n",
      "Requirement already satisfied: pandocfilters>=1.4.1 in /Library/Frameworks/Python.framework/Versions/3.12/lib/python3.12/site-packages (from nbconvert->jupyter<2.0.0,>=1.0.0->funpymodeling) (1.5.1)\n",
      "Requirement already satisfied: webencodings in /Library/Frameworks/Python.framework/Versions/3.12/lib/python3.12/site-packages (from bleach!=5.0.0->bleach[css]!=5.0.0->nbconvert->jupyter<2.0.0,>=1.0.0->funpymodeling) (0.5.1)\n",
      "Requirement already satisfied: tinycss2<1.5,>=1.1.0 in /Library/Frameworks/Python.framework/Versions/3.12/lib/python3.12/site-packages (from bleach[css]!=5.0.0->nbconvert->jupyter<2.0.0,>=1.0.0->funpymodeling) (1.4.0)\n",
      "Requirement already satisfied: anyio in /Library/Frameworks/Python.framework/Versions/3.12/lib/python3.12/site-packages (from httpx>=0.25.0->jupyterlab->jupyter<2.0.0,>=1.0.0->funpymodeling) (4.9.0)\n",
      "Requirement already satisfied: certifi in /Library/Frameworks/Python.framework/Versions/3.12/lib/python3.12/site-packages (from httpx>=0.25.0->jupyterlab->jupyter<2.0.0,>=1.0.0->funpymodeling) (2025.1.31)\n",
      "Requirement already satisfied: httpcore==1.* in /Library/Frameworks/Python.framework/Versions/3.12/lib/python3.12/site-packages (from httpx>=0.25.0->jupyterlab->jupyter<2.0.0,>=1.0.0->funpymodeling) (1.0.7)\n",
      "Requirement already satisfied: idna in /Library/Frameworks/Python.framework/Versions/3.12/lib/python3.12/site-packages (from httpx>=0.25.0->jupyterlab->jupyter<2.0.0,>=1.0.0->funpymodeling) (3.10)\n",
      "Requirement already satisfied: h11<0.15,>=0.13 in /Library/Frameworks/Python.framework/Versions/3.12/lib/python3.12/site-packages (from httpcore==1.*->httpx>=0.25.0->jupyterlab->jupyter<2.0.0,>=1.0.0->funpymodeling) (0.14.0)\n",
      "Requirement already satisfied: decorator in /Users/diegomatiasr/Library/Python/3.12/lib/python/site-packages (from ipython>=7.23.1->ipykernel->jupyter<2.0.0,>=1.0.0->funpymodeling) (5.2.1)\n",
      "Requirement already satisfied: ipython-pygments-lexers in /Users/diegomatiasr/Library/Python/3.12/lib/python/site-packages (from ipython>=7.23.1->ipykernel->jupyter<2.0.0,>=1.0.0->funpymodeling) (1.1.1)\n",
      "Requirement already satisfied: jedi>=0.16 in /Users/diegomatiasr/Library/Python/3.12/lib/python/site-packages (from ipython>=7.23.1->ipykernel->jupyter<2.0.0,>=1.0.0->funpymodeling) (0.19.2)\n",
      "Requirement already satisfied: pexpect>4.3 in /Users/diegomatiasr/Library/Python/3.12/lib/python/site-packages (from ipython>=7.23.1->ipykernel->jupyter<2.0.0,>=1.0.0->funpymodeling) (4.9.0)\n",
      "Requirement already satisfied: stack_data in /Users/diegomatiasr/Library/Python/3.12/lib/python/site-packages (from ipython>=7.23.1->ipykernel->jupyter<2.0.0,>=1.0.0->funpymodeling) (0.6.3)\n",
      "Requirement already satisfied: argon2-cffi>=21.1 in /Library/Frameworks/Python.framework/Versions/3.12/lib/python3.12/site-packages (from jupyter-server<3,>=2.4.0->jupyterlab->jupyter<2.0.0,>=1.0.0->funpymodeling) (23.1.0)\n",
      "Requirement already satisfied: jupyter-events>=0.11.0 in /Library/Frameworks/Python.framework/Versions/3.12/lib/python3.12/site-packages (from jupyter-server<3,>=2.4.0->jupyterlab->jupyter<2.0.0,>=1.0.0->funpymodeling) (0.12.0)\n",
      "Requirement already satisfied: jupyter-server-terminals>=0.4.4 in /Library/Frameworks/Python.framework/Versions/3.12/lib/python3.12/site-packages (from jupyter-server<3,>=2.4.0->jupyterlab->jupyter<2.0.0,>=1.0.0->funpymodeling) (0.5.3)\n",
      "Requirement already satisfied: overrides>=5.0 in /Library/Frameworks/Python.framework/Versions/3.12/lib/python3.12/site-packages (from jupyter-server<3,>=2.4.0->jupyterlab->jupyter<2.0.0,>=1.0.0->funpymodeling) (7.7.0)\n",
      "Requirement already satisfied: prometheus-client>=0.9 in /Library/Frameworks/Python.framework/Versions/3.12/lib/python3.12/site-packages (from jupyter-server<3,>=2.4.0->jupyterlab->jupyter<2.0.0,>=1.0.0->funpymodeling) (0.21.1)\n",
      "Requirement already satisfied: send2trash>=1.8.2 in /Library/Frameworks/Python.framework/Versions/3.12/lib/python3.12/site-packages (from jupyter-server<3,>=2.4.0->jupyterlab->jupyter<2.0.0,>=1.0.0->funpymodeling) (1.8.3)\n",
      "Requirement already satisfied: terminado>=0.8.3 in /Library/Frameworks/Python.framework/Versions/3.12/lib/python3.12/site-packages (from jupyter-server<3,>=2.4.0->jupyterlab->jupyter<2.0.0,>=1.0.0->funpymodeling) (0.18.1)\n",
      "Requirement already satisfied: websocket-client>=1.7 in /Library/Frameworks/Python.framework/Versions/3.12/lib/python3.12/site-packages (from jupyter-server<3,>=2.4.0->jupyterlab->jupyter<2.0.0,>=1.0.0->funpymodeling) (1.8.0)\n",
      "Requirement already satisfied: babel>=2.10 in /Library/Frameworks/Python.framework/Versions/3.12/lib/python3.12/site-packages (from jupyterlab-server<3,>=2.27.1->jupyterlab->jupyter<2.0.0,>=1.0.0->funpymodeling) (2.17.0)\n",
      "Requirement already satisfied: json5>=0.9.0 in /Library/Frameworks/Python.framework/Versions/3.12/lib/python3.12/site-packages (from jupyterlab-server<3,>=2.27.1->jupyterlab->jupyter<2.0.0,>=1.0.0->funpymodeling) (0.10.0)\n",
      "Requirement already satisfied: jsonschema>=4.18.0 in /Library/Frameworks/Python.framework/Versions/3.12/lib/python3.12/site-packages (from jupyterlab-server<3,>=2.27.1->jupyterlab->jupyter<2.0.0,>=1.0.0->funpymodeling) (4.23.0)\n",
      "Requirement already satisfied: requests>=2.31 in /Library/Frameworks/Python.framework/Versions/3.12/lib/python3.12/site-packages (from jupyterlab-server<3,>=2.27.1->jupyterlab->jupyter<2.0.0,>=1.0.0->funpymodeling) (2.32.3)\n",
      "Requirement already satisfied: fastjsonschema>=2.15 in /Library/Frameworks/Python.framework/Versions/3.12/lib/python3.12/site-packages (from nbformat>=5.7->nbconvert->jupyter<2.0.0,>=1.0.0->funpymodeling) (2.21.1)\n",
      "Requirement already satisfied: wcwidth in /Users/diegomatiasr/Library/Python/3.12/lib/python/site-packages (from prompt-toolkit>=3.0.30->jupyter-console->jupyter<2.0.0,>=1.0.0->funpymodeling) (0.2.13)\n",
      "Requirement already satisfied: soupsieve>1.2 in /Library/Frameworks/Python.framework/Versions/3.12/lib/python3.12/site-packages (from beautifulsoup4->nbconvert->jupyter<2.0.0,>=1.0.0->funpymodeling) (2.6)\n",
      "Requirement already satisfied: sniffio>=1.1 in /Library/Frameworks/Python.framework/Versions/3.12/lib/python3.12/site-packages (from anyio->httpx>=0.25.0->jupyterlab->jupyter<2.0.0,>=1.0.0->funpymodeling) (1.3.1)\n",
      "Requirement already satisfied: argon2-cffi-bindings in /Library/Frameworks/Python.framework/Versions/3.12/lib/python3.12/site-packages (from argon2-cffi>=21.1->jupyter-server<3,>=2.4.0->jupyterlab->jupyter<2.0.0,>=1.0.0->funpymodeling) (21.2.0)\n",
      "Requirement already satisfied: parso<0.9.0,>=0.8.4 in /Users/diegomatiasr/Library/Python/3.12/lib/python/site-packages (from jedi>=0.16->ipython>=7.23.1->ipykernel->jupyter<2.0.0,>=1.0.0->funpymodeling) (0.8.4)\n",
      "Requirement already satisfied: attrs>=22.2.0 in /Library/Frameworks/Python.framework/Versions/3.12/lib/python3.12/site-packages (from jsonschema>=4.18.0->jupyterlab-server<3,>=2.27.1->jupyterlab->jupyter<2.0.0,>=1.0.0->funpymodeling) (25.3.0)\n",
      "Requirement already satisfied: jsonschema-specifications>=2023.03.6 in /Library/Frameworks/Python.framework/Versions/3.12/lib/python3.12/site-packages (from jsonschema>=4.18.0->jupyterlab-server<3,>=2.27.1->jupyterlab->jupyter<2.0.0,>=1.0.0->funpymodeling) (2024.10.1)\n",
      "Requirement already satisfied: referencing>=0.28.4 in /Library/Frameworks/Python.framework/Versions/3.12/lib/python3.12/site-packages (from jsonschema>=4.18.0->jupyterlab-server<3,>=2.27.1->jupyterlab->jupyter<2.0.0,>=1.0.0->funpymodeling) (0.36.2)\n",
      "Requirement already satisfied: rpds-py>=0.7.1 in /Library/Frameworks/Python.framework/Versions/3.12/lib/python3.12/site-packages (from jsonschema>=4.18.0->jupyterlab-server<3,>=2.27.1->jupyterlab->jupyter<2.0.0,>=1.0.0->funpymodeling) (0.23.1)\n",
      "Requirement already satisfied: python-json-logger>=2.0.4 in /Library/Frameworks/Python.framework/Versions/3.12/lib/python3.12/site-packages (from jupyter-events>=0.11.0->jupyter-server<3,>=2.4.0->jupyterlab->jupyter<2.0.0,>=1.0.0->funpymodeling) (3.3.0)\n",
      "Requirement already satisfied: rfc3339-validator in /Library/Frameworks/Python.framework/Versions/3.12/lib/python3.12/site-packages (from jupyter-events>=0.11.0->jupyter-server<3,>=2.4.0->jupyterlab->jupyter<2.0.0,>=1.0.0->funpymodeling) (0.1.4)\n",
      "Requirement already satisfied: rfc3986-validator>=0.1.1 in /Library/Frameworks/Python.framework/Versions/3.12/lib/python3.12/site-packages (from jupyter-events>=0.11.0->jupyter-server<3,>=2.4.0->jupyterlab->jupyter<2.0.0,>=1.0.0->funpymodeling) (0.1.1)\n",
      "Requirement already satisfied: ptyprocess>=0.5 in /Users/diegomatiasr/Library/Python/3.12/lib/python/site-packages (from pexpect>4.3->ipython>=7.23.1->ipykernel->jupyter<2.0.0,>=1.0.0->funpymodeling) (0.7.0)\n",
      "Requirement already satisfied: charset-normalizer<4,>=2 in /Library/Frameworks/Python.framework/Versions/3.12/lib/python3.12/site-packages (from requests>=2.31->jupyterlab-server<3,>=2.27.1->jupyterlab->jupyter<2.0.0,>=1.0.0->funpymodeling) (3.4.1)\n",
      "Requirement already satisfied: urllib3<3,>=1.21.1 in /Library/Frameworks/Python.framework/Versions/3.12/lib/python3.12/site-packages (from requests>=2.31->jupyterlab-server<3,>=2.27.1->jupyterlab->jupyter<2.0.0,>=1.0.0->funpymodeling) (2.3.0)\n",
      "Requirement already satisfied: executing>=1.2.0 in /Users/diegomatiasr/Library/Python/3.12/lib/python/site-packages (from stack_data->ipython>=7.23.1->ipykernel->jupyter<2.0.0,>=1.0.0->funpymodeling) (2.2.0)\n",
      "Requirement already satisfied: asttokens>=2.1.0 in /Users/diegomatiasr/Library/Python/3.12/lib/python/site-packages (from stack_data->ipython>=7.23.1->ipykernel->jupyter<2.0.0,>=1.0.0->funpymodeling) (3.0.0)\n",
      "Requirement already satisfied: pure-eval in /Users/diegomatiasr/Library/Python/3.12/lib/python/site-packages (from stack_data->ipython>=7.23.1->ipykernel->jupyter<2.0.0,>=1.0.0->funpymodeling) (0.2.3)\n",
      "Requirement already satisfied: fqdn in /Library/Frameworks/Python.framework/Versions/3.12/lib/python3.12/site-packages (from jsonschema[format-nongpl]>=4.18.0->jupyter-events>=0.11.0->jupyter-server<3,>=2.4.0->jupyterlab->jupyter<2.0.0,>=1.0.0->funpymodeling) (1.5.1)\n",
      "Requirement already satisfied: isoduration in /Library/Frameworks/Python.framework/Versions/3.12/lib/python3.12/site-packages (from jsonschema[format-nongpl]>=4.18.0->jupyter-events>=0.11.0->jupyter-server<3,>=2.4.0->jupyterlab->jupyter<2.0.0,>=1.0.0->funpymodeling) (20.11.0)\n",
      "Requirement already satisfied: jsonpointer>1.13 in /Library/Frameworks/Python.framework/Versions/3.12/lib/python3.12/site-packages (from jsonschema[format-nongpl]>=4.18.0->jupyter-events>=0.11.0->jupyter-server<3,>=2.4.0->jupyterlab->jupyter<2.0.0,>=1.0.0->funpymodeling) (3.0.0)\n",
      "Requirement already satisfied: uri-template in /Library/Frameworks/Python.framework/Versions/3.12/lib/python3.12/site-packages (from jsonschema[format-nongpl]>=4.18.0->jupyter-events>=0.11.0->jupyter-server<3,>=2.4.0->jupyterlab->jupyter<2.0.0,>=1.0.0->funpymodeling) (1.3.0)\n",
      "Requirement already satisfied: webcolors>=24.6.0 in /Library/Frameworks/Python.framework/Versions/3.12/lib/python3.12/site-packages (from jsonschema[format-nongpl]>=4.18.0->jupyter-events>=0.11.0->jupyter-server<3,>=2.4.0->jupyterlab->jupyter<2.0.0,>=1.0.0->funpymodeling) (24.11.1)\n",
      "Requirement already satisfied: cffi>=1.0.1 in /Library/Frameworks/Python.framework/Versions/3.12/lib/python3.12/site-packages (from argon2-cffi-bindings->argon2-cffi>=21.1->jupyter-server<3,>=2.4.0->jupyterlab->jupyter<2.0.0,>=1.0.0->funpymodeling) (1.17.1)\n",
      "Requirement already satisfied: pycparser in /Library/Frameworks/Python.framework/Versions/3.12/lib/python3.12/site-packages (from cffi>=1.0.1->argon2-cffi-bindings->argon2-cffi>=21.1->jupyter-server<3,>=2.4.0->jupyterlab->jupyter<2.0.0,>=1.0.0->funpymodeling) (2.22)\n",
      "Requirement already satisfied: arrow>=0.15.0 in /Library/Frameworks/Python.framework/Versions/3.12/lib/python3.12/site-packages (from isoduration->jsonschema[format-nongpl]>=4.18.0->jupyter-events>=0.11.0->jupyter-server<3,>=2.4.0->jupyterlab->jupyter<2.0.0,>=1.0.0->funpymodeling) (1.3.0)\n",
      "Requirement already satisfied: types-python-dateutil>=2.8.10 in /Library/Frameworks/Python.framework/Versions/3.12/lib/python3.12/site-packages (from arrow>=0.15.0->isoduration->jsonschema[format-nongpl]>=4.18.0->jupyter-events>=0.11.0->jupyter-server<3,>=2.4.0->jupyterlab->jupyter<2.0.0,>=1.0.0->funpymodeling) (2.9.0.20241206)\n",
      "\n",
      "\u001b[1m[\u001b[0m\u001b[34;49mnotice\u001b[0m\u001b[1;39;49m]\u001b[0m\u001b[39;49m A new release of pip is available: \u001b[0m\u001b[31;49m24.0\u001b[0m\u001b[39;49m -> \u001b[0m\u001b[32;49m25.0.1\u001b[0m\n",
      "\u001b[1m[\u001b[0m\u001b[34;49mnotice\u001b[0m\u001b[1;39;49m]\u001b[0m\u001b[39;49m To update, run: \u001b[0m\u001b[32;49mpip3 install --upgrade pip\u001b[0m\n",
      "Note: you may need to restart the kernel to use updated packages.\n"
     ]
    }
   ],
   "source": [
    "# Instalamos librería para análisis de variables categóricas\n",
    "%pip install funpymodeling"
   ]
  },
  {
   "cell_type": "code",
   "execution_count": 26,
   "metadata": {},
   "outputs": [],
   "source": [
    "#Importamos las librerias pandas, numpy y matplotlib respectivamente\n",
    "import pandas as pd\n",
    "import numpy as np\n",
    "import seaborn as sns\n",
    "import matplotlib.pyplot as plt\n",
    "from funpymodeling.exploratory import freq_tbl "
   ]
  },
  {
   "cell_type": "code",
   "execution_count": 3,
   "metadata": {},
   "outputs": [
    {
     "name": "stdout",
     "output_type": "stream",
     "text": [
      "Requirement already satisfied: openpyxl in /Library/Frameworks/Python.framework/Versions/3.12/lib/python3.12/site-packages (3.1.5)\n",
      "Requirement already satisfied: et-xmlfile in /Library/Frameworks/Python.framework/Versions/3.12/lib/python3.12/site-packages (from openpyxl) (2.0.0)\n",
      "\n",
      "\u001b[1m[\u001b[0m\u001b[34;49mnotice\u001b[0m\u001b[1;39;49m]\u001b[0m\u001b[39;49m A new release of pip is available: \u001b[0m\u001b[31;49m24.0\u001b[0m\u001b[39;49m -> \u001b[0m\u001b[32;49m25.0.1\u001b[0m\n",
      "\u001b[1m[\u001b[0m\u001b[34;49mnotice\u001b[0m\u001b[1;39;49m]\u001b[0m\u001b[39;49m To update, run: \u001b[0m\u001b[32;49mpip3 install --upgrade pip\u001b[0m\n",
      "Note: you may need to restart the kernel to use updated packages.\n"
     ]
    }
   ],
   "source": [
    "%pip install openpyxl"
   ]
  },
  {
   "cell_type": "code",
   "execution_count": 5,
   "metadata": {},
   "outputs": [
    {
     "data": {
      "text/html": [
       "<div>\n",
       "<style scoped>\n",
       "    .dataframe tbody tr th:only-of-type {\n",
       "        vertical-align: middle;\n",
       "    }\n",
       "\n",
       "    .dataframe tbody tr th {\n",
       "        vertical-align: top;\n",
       "    }\n",
       "\n",
       "    .dataframe thead th {\n",
       "        text-align: right;\n",
       "    }\n",
       "</style>\n",
       "<table border=\"1\" class=\"dataframe\">\n",
       "  <thead>\n",
       "    <tr style=\"text-align: right;\">\n",
       "      <th></th>\n",
       "      <th>Unnamed: 0</th>\n",
       "      <th>name</th>\n",
       "      <th>description</th>\n",
       "      <th>neighborhood_overview</th>\n",
       "      <th>host_name</th>\n",
       "      <th>host_since</th>\n",
       "      <th>host_location</th>\n",
       "      <th>host_about</th>\n",
       "      <th>host_response_time</th>\n",
       "      <th>host_response_rate</th>\n",
       "      <th>...</th>\n",
       "      <th>review_scores_rating</th>\n",
       "      <th>review_scores_accuracy</th>\n",
       "      <th>review_scores_cleanliness</th>\n",
       "      <th>review_scores_checkin</th>\n",
       "      <th>review_scores_communication</th>\n",
       "      <th>review_scores_communication.1</th>\n",
       "      <th>review_scores_value</th>\n",
       "      <th>calculated_host_listings_count</th>\n",
       "      <th>calculated_host_listings_count_entire_homes</th>\n",
       "      <th>reviews_per_month</th>\n",
       "    </tr>\n",
       "  </thead>\n",
       "  <tbody>\n",
       "    <tr>\n",
       "      <th>0</th>\n",
       "      <td>0</td>\n",
       "      <td>SEASIDE - Historic Antique Residence</td>\n",
       "      <td>WINEYARD WITH COLOURS OF THE SEASIDE.&lt;br /&gt;&lt;br...</td>\n",
       "      <td>NaN</td>\n",
       "      <td>Yumi Adriano</td>\n",
       "      <td>13/05/09</td>\n",
       "      <td>Sicily, Italy</td>\n",
       "      <td>Hi, this is Yumi, I  am a Japanese, I speak Ja...</td>\n",
       "      <td>NaN</td>\n",
       "      <td>NaN</td>\n",
       "      <td>...</td>\n",
       "      <td>4.69</td>\n",
       "      <td>4.66</td>\n",
       "      <td>4.86</td>\n",
       "      <td>4.83</td>\n",
       "      <td>4.72</td>\n",
       "      <td>4.72</td>\n",
       "      <td>4.59</td>\n",
       "      <td>10</td>\n",
       "      <td>10</td>\n",
       "      <td>0.18</td>\n",
       "    </tr>\n",
       "    <tr>\n",
       "      <th>1</th>\n",
       "      <td>1</td>\n",
       "      <td>BnB center near station with balcony and break...</td>\n",
       "      <td>Near the Central Station and the beginning of ...</td>\n",
       "      <td>The neighborhood is in a residential area, cen...</td>\n",
       "      <td>Giuseppe</td>\n",
       "      <td>05/03/10</td>\n",
       "      <td>Agrigento, Italy</td>\n",
       "      <td>Di carattere tranquillo e dinamico, sposato, c...</td>\n",
       "      <td>within an hour</td>\n",
       "      <td>100%</td>\n",
       "      <td>...</td>\n",
       "      <td>4.80</td>\n",
       "      <td>4.87</td>\n",
       "      <td>4.89</td>\n",
       "      <td>4.85</td>\n",
       "      <td>4.81</td>\n",
       "      <td>4.81</td>\n",
       "      <td>4.85</td>\n",
       "      <td>3</td>\n",
       "      <td>0</td>\n",
       "      <td>2.48</td>\n",
       "    </tr>\n",
       "    <tr>\n",
       "      <th>2</th>\n",
       "      <td>2</td>\n",
       "      <td>Etna-sea a panoramic villa</td>\n",
       "      <td>Our country house, swathed in the greenery of ...</td>\n",
       "      <td>Contact with nature, relaxation, remarkable pa...</td>\n",
       "      <td>Serena</td>\n",
       "      <td>24/06/10</td>\n",
       "      <td>Piedimonte Etneo, Italy</td>\n",
       "      <td>.</td>\n",
       "      <td>within a few hours</td>\n",
       "      <td>100%</td>\n",
       "      <td>...</td>\n",
       "      <td>4.79</td>\n",
       "      <td>4.82</td>\n",
       "      <td>4.83</td>\n",
       "      <td>4.89</td>\n",
       "      <td>4.81</td>\n",
       "      <td>4.81</td>\n",
       "      <td>4.76</td>\n",
       "      <td>5</td>\n",
       "      <td>5</td>\n",
       "      <td>0.90</td>\n",
       "    </tr>\n",
       "    <tr>\n",
       "      <th>3</th>\n",
       "      <td>3</td>\n",
       "      <td>Two steps from the sea</td>\n",
       "      <td>Very nice flat in front of the beach with a wo...</td>\n",
       "      <td>NaN</td>\n",
       "      <td>Gaspare</td>\n",
       "      <td>05/08/10</td>\n",
       "      <td>Trapani, Italy</td>\n",
       "      <td>Managing parents' houses in Trapani and in San...</td>\n",
       "      <td>within an hour</td>\n",
       "      <td>100%</td>\n",
       "      <td>...</td>\n",
       "      <td>4.68</td>\n",
       "      <td>4.78</td>\n",
       "      <td>4.57</td>\n",
       "      <td>4.97</td>\n",
       "      <td>4.94</td>\n",
       "      <td>4.94</td>\n",
       "      <td>4.64</td>\n",
       "      <td>2</td>\n",
       "      <td>2</td>\n",
       "      <td>0.49</td>\n",
       "    </tr>\n",
       "    <tr>\n",
       "      <th>4</th>\n",
       "      <td>4</td>\n",
       "      <td>Villa Verdemare</td>\n",
       "      <td>Wonderful villa that can easily accommodate up...</td>\n",
       "      <td>NaN</td>\n",
       "      <td>Gaspare</td>\n",
       "      <td>05/08/10</td>\n",
       "      <td>Trapani, Italy</td>\n",
       "      <td>Managing parents' houses in Trapani and in San...</td>\n",
       "      <td>within an hour</td>\n",
       "      <td>100%</td>\n",
       "      <td>...</td>\n",
       "      <td>4.85</td>\n",
       "      <td>4.82</td>\n",
       "      <td>4.69</td>\n",
       "      <td>4.99</td>\n",
       "      <td>4.92</td>\n",
       "      <td>4.92</td>\n",
       "      <td>4.72</td>\n",
       "      <td>2</td>\n",
       "      <td>2</td>\n",
       "      <td>0.46</td>\n",
       "    </tr>\n",
       "  </tbody>\n",
       "</table>\n",
       "<p>5 rows × 51 columns</p>\n",
       "</div>"
      ],
      "text/plain": [
       "   Unnamed: 0                                               name  \\\n",
       "0           0               SEASIDE - Historic Antique Residence   \n",
       "1           1  BnB center near station with balcony and break...   \n",
       "2           2                         Etna-sea a panoramic villa   \n",
       "3           3                             Two steps from the sea   \n",
       "4           4                                    Villa Verdemare   \n",
       "\n",
       "                                         description  \\\n",
       "0  WINEYARD WITH COLOURS OF THE SEASIDE.<br /><br...   \n",
       "1  Near the Central Station and the beginning of ...   \n",
       "2  Our country house, swathed in the greenery of ...   \n",
       "3  Very nice flat in front of the beach with a wo...   \n",
       "4  Wonderful villa that can easily accommodate up...   \n",
       "\n",
       "                               neighborhood_overview     host_name host_since  \\\n",
       "0                                                NaN  Yumi Adriano   13/05/09   \n",
       "1  The neighborhood is in a residential area, cen...      Giuseppe   05/03/10   \n",
       "2  Contact with nature, relaxation, remarkable pa...        Serena   24/06/10   \n",
       "3                                                NaN       Gaspare   05/08/10   \n",
       "4                                                NaN       Gaspare   05/08/10   \n",
       "\n",
       "             host_location                                         host_about  \\\n",
       "0            Sicily, Italy  Hi, this is Yumi, I  am a Japanese, I speak Ja...   \n",
       "1         Agrigento, Italy  Di carattere tranquillo e dinamico, sposato, c...   \n",
       "2  Piedimonte Etneo, Italy                                                  .   \n",
       "3           Trapani, Italy  Managing parents' houses in Trapani and in San...   \n",
       "4           Trapani, Italy  Managing parents' houses in Trapani and in San...   \n",
       "\n",
       "   host_response_time host_response_rate  ... review_scores_rating  \\\n",
       "0                 NaN                NaN  ...                 4.69   \n",
       "1      within an hour               100%  ...                 4.80   \n",
       "2  within a few hours               100%  ...                 4.79   \n",
       "3      within an hour               100%  ...                 4.68   \n",
       "4      within an hour               100%  ...                 4.85   \n",
       "\n",
       "  review_scores_accuracy  review_scores_cleanliness  review_scores_checkin  \\\n",
       "0                   4.66                       4.86                   4.83   \n",
       "1                   4.87                       4.89                   4.85   \n",
       "2                   4.82                       4.83                   4.89   \n",
       "3                   4.78                       4.57                   4.97   \n",
       "4                   4.82                       4.69                   4.99   \n",
       "\n",
       "  review_scores_communication review_scores_communication.1  \\\n",
       "0                        4.72                          4.72   \n",
       "1                        4.81                          4.81   \n",
       "2                        4.81                          4.81   \n",
       "3                        4.94                          4.94   \n",
       "4                        4.92                          4.92   \n",
       "\n",
       "  review_scores_value  calculated_host_listings_count  \\\n",
       "0                4.59                              10   \n",
       "1                4.85                               3   \n",
       "2                4.76                               5   \n",
       "3                4.64                               2   \n",
       "4                4.72                               2   \n",
       "\n",
       "   calculated_host_listings_count_entire_homes reviews_per_month  \n",
       "0                                           10              0.18  \n",
       "1                                            0              2.48  \n",
       "2                                            5              0.90  \n",
       "3                                            2              0.49  \n",
       "4                                            2              0.46  \n",
       "\n",
       "[5 rows x 51 columns]"
      ]
     },
     "execution_count": 5,
     "metadata": {},
     "output_type": "execute_result"
    }
   ],
   "source": [
    "# Carga desde un archivo .csv sin índice\n",
    "df = pd.read_csv(\"Sicily.csv\")\n",
    "df.head(5)"
   ]
  },
  {
   "cell_type": "code",
   "execution_count": 6,
   "metadata": {},
   "outputs": [],
   "source": [
    "# Limpiar columnas eliminando % y convirtiendo a numérico\n",
    "df['host_response_rate'] = df['host_response_rate'].str.rstrip('%').astype(float)\n",
    "df['host_acceptance_rate'] = df['host_acceptance_rate'].str.rstrip('%').astype(float)"
   ]
  },
  {
   "cell_type": "code",
   "execution_count": 7,
   "metadata": {},
   "outputs": [
    {
     "name": "stderr",
     "output_type": "stream",
     "text": [
      "<>:2: SyntaxWarning: invalid escape sequence '\\$'\n",
      "<>:2: SyntaxWarning: invalid escape sequence '\\$'\n",
      "/var/folders/lk/1s80q3g16rl6xn6yqybdsx3m0000gn/T/ipykernel_49646/3666937479.py:2: SyntaxWarning: invalid escape sequence '\\$'\n",
      "  df['price'] = df['price'].replace('[\\$,]', '', regex=True).astype(float)\n"
     ]
    }
   ],
   "source": [
    "# Limpiar precio (quitar $ y comas)\n",
    "df['price'] = df['price'].replace('[\\$,]', '', regex=True).astype(float)"
   ]
  },
  {
   "cell_type": "code",
   "execution_count": 11,
   "metadata": {},
   "outputs": [],
   "source": [
    "# Filtrar columnas relevantes\n",
    "columnas = [\n",
    "    'host_response_rate', 'host_acceptance_rate', 'price',\n",
    "    'review_scores_cleanliness', 'review_scores_communication',\n",
    "    'availability_365', 'number_of_reviews', 'reviews_per_month',\n",
    "    'room_type']"
   ]
  },
  {
   "cell_type": "code",
   "execution_count": 12,
   "metadata": {},
   "outputs": [],
   "source": [
    "df_limpio = df[columnas].dropna()"
   ]
  },
  {
   "cell_type": "code",
   "execution_count": 13,
   "metadata": {},
   "outputs": [],
   "source": [
    "# Eliminar outliers usando método IQR\n",
    "def remove_outliers_iqr(dataframe, column):\n",
    "    Q1 = dataframe[column].quantile(0.25)\n",
    "    Q3 = dataframe[column].quantile(0.75)\n",
    "    IQR = Q3 - Q1\n",
    "    lower = Q1 - 1.5 * IQR\n",
    "    upper = Q3 + 1.5 * IQR\n",
    "    return dataframe[(dataframe[column] >= lower) & (dataframe[column] <= upper)]"
   ]
  },
  {
   "cell_type": "code",
   "execution_count": 14,
   "metadata": {},
   "outputs": [],
   "source": [
    "for col in df_limpio.columns:\n",
    "    if df_limpio[col].dtype in ['float64', 'int64'] and col != 'room_type':\n",
    "        df_limpio = remove_outliers_iqr(df_limpio, col)"
   ]
  },
  {
   "cell_type": "code",
   "execution_count": 15,
   "metadata": {},
   "outputs": [
    {
     "name": "stdout",
     "output_type": "stream",
     "text": [
      "       host_response_rate  host_acceptance_rate         price  \\\n",
      "count             12147.0          12147.000000  12147.000000   \n",
      "mean                100.0             99.368733     92.217091   \n",
      "std                   0.0              1.517597     46.316639   \n",
      "min                 100.0             93.000000     10.000000   \n",
      "25%                 100.0            100.000000     60.000000   \n",
      "50%                 100.0            100.000000     80.000000   \n",
      "75%                 100.0            100.000000    114.000000   \n",
      "max                 100.0            100.000000    247.000000   \n",
      "\n",
      "       review_scores_cleanliness  review_scores_communication  \\\n",
      "count               12147.000000                 12147.000000   \n",
      "mean                    4.882393                     4.941949   \n",
      "std                     0.145810                     0.077407   \n",
      "min                     4.380000                     4.700000   \n",
      "25%                     4.810000                     4.900000   \n",
      "50%                     4.940000                     4.980000   \n",
      "75%                     5.000000                     5.000000   \n",
      "max                     5.000000                     5.000000   \n",
      "\n",
      "       availability_365  number_of_reviews  reviews_per_month  \n",
      "count      12147.000000       12147.000000       12147.000000  \n",
      "mean         255.339425          28.462089           0.779355  \n",
      "std          102.902199          31.739955           0.662025  \n",
      "min            0.000000           1.000000           0.010000  \n",
      "25%          180.500000           5.000000           0.250000  \n",
      "50%          274.000000          16.000000           0.580000  \n",
      "75%          349.000000          42.000000           1.120000  \n",
      "max          365.000000         138.000000           2.840000  \n"
     ]
    }
   ],
   "source": [
    "print(df_limpio.describe())"
   ]
  },
  {
   "cell_type": "code",
   "execution_count": 18,
   "metadata": {},
   "outputs": [],
   "source": [
    "room_types = df_limpio['room_type'].value_counts().nlargest(4).index\n",
    "df_clean = df_limpio[df_limpio['room_type'].isin(room_types)]"
   ]
  },
  {
   "cell_type": "code",
   "execution_count": 19,
   "metadata": {},
   "outputs": [],
   "source": [
    "# Correlación\n",
    "correlacion = [\n",
    "    (\"host_acceptance_rate\", \"host_response_rate\"),\n",
    "    (\"review_scores_rating\", \"review_scores_cleanliness\"),\n",
    "    (\"host_acceptance_rate\", \"price\"),\n",
    "    (\"availability_365\", \"number_of_reviews\"),\n",
    "    (\"host_acceptance_rate\", \"number_of_reviews\"),\n",
    "    (\"reviews_per_month\", \"review_scores_communication\")\n",
    "]"
   ]
  },
  {
   "cell_type": "code",
   "execution_count": 20,
   "metadata": {},
   "outputs": [
    {
     "name": "stdout",
     "output_type": "stream",
     "text": [
      "\n",
      "=== Tipo de habitación: Entire home/apt ===\n",
      "\n",
      "=== Tipo de habitación: Private room ===\n",
      "\n",
      "=== Tipo de habitación: Hotel room ===\n",
      "\n",
      "=== Tipo de habitación: Shared room ===\n"
     ]
    }
   ],
   "source": [
    "# Gráficos por tipo de habitación\n",
    "for room in room_types:\n",
    "    print(f\"\\n=== Tipo de habitación: {room} ===\")\n",
    "    subset = df_limpio[df_limpio['room_type'] == room]"
   ]
  },
  {
   "cell_type": "code",
   "execution_count": 22,
   "metadata": {},
   "outputs": [],
   "source": [
    "from sklearn.linear_model import LinearRegression"
   ]
  },
  {
   "cell_type": "code",
   "execution_count": 23,
   "metadata": {},
   "outputs": [],
   "source": [
    "heatmap = [\n",
    "    'host_response_rate', 'host_acceptance_rate', 'price',\n",
    "    'review_scores_cleanliness', 'review_scores_communication',\n",
    "    'availability_365', 'number_of_reviews', 'reviews_per_month'\n",
    "]"
   ]
  },
  {
   "cell_type": "code",
   "execution_count": 24,
   "metadata": {},
   "outputs": [
    {
     "name": "stdout",
     "output_type": "stream",
     "text": [
      "\n",
      " Heatmap para Entire home/apt\n",
      "\n",
      " Heatmap para Private room\n",
      "\n",
      " Heatmap para Hotel room\n",
      "\n",
      " Heatmap para Shared room\n"
     ]
    }
   ],
   "source": [
    "for room in room_types:\n",
    "    print(f\"\\n Heatmap para {room}\")\n",
    "    room_df = df_clean[df_clean['room_type'] == room][heatmap]\n",
    "    corr_matrix = room_df.corr()"
   ]
  },
  {
   "cell_type": "code",
   "execution_count": 27,
   "metadata": {},
   "outputs": [
    {
     "name": "stderr",
     "output_type": "stream",
     "text": [
      "/Library/Frameworks/Python.framework/Versions/3.12/lib/python3.12/site-packages/seaborn/matrix.py:260: FutureWarning: Format strings passed to MaskedConstant are ignored, but in future may error or produce different behavior\n",
      "  annotation = (\"{:\" + self.fmt + \"}\").format(val)\n"
     ]
    },
    {
     "data": {
      "image/png": "[encoded data removed]",
      "text/plain": [
       "<Figure size 800x600 with 2 Axes>"
      ]
     },
     "metadata": {},
     "output_type": "display_data"
    }
   ],
   "source": [
    "plt.figure(figsize=(8,6))\n",
    "sns.heatmap(corr_matrix, annot=True, cmap='coolwarm')\n",
    "plt.title(f\"Mapa de calor: {room}\")\n",
    "plt.show()"
   ]
  },
  {
   "cell_type": "code",
   "execution_count": 28,
   "metadata": {},
   "outputs": [],
   "source": [
    "# Encontrar mayor correlación (absoluta) fuera de la diagonal\n",
    "corr_pairs = corr_matrix.abs().unstack().sort_values(ascending=False)\n",
    "top_corr = [(i, j) for i, j in corr_pairs.index if i != j][0]"
   ]
  },
  {
   "cell_type": "code",
   "execution_count": 29,
   "metadata": {},
   "outputs": [],
   "source": [
    "# Regresión Lineal\n",
    "X = room_df[[top_corr[0]]]\n",
    "y = room_df[top_corr[1]]"
   ]
  },
  {
   "cell_type": "code",
   "execution_count": 30,
   "metadata": {},
   "outputs": [],
   "source": [
    "model = LinearRegression().fit(X, y)\n",
    "r2 = model.score(X, y)"
   ]
  },
  {
   "cell_type": "code",
   "execution_count": 31,
   "metadata": {},
   "outputs": [
    {
     "name": "stdout",
     "output_type": "stream",
     "text": [
      "Mejor correlación: number_of_reviews vs review_scores_communication\n",
      "Coeficiente de regresión: -0.004, Intercepto: 5.023\n",
      "R²: 0.957\n"
     ]
    }
   ],
   "source": [
    "print(f\"Mejor correlación: {top_corr[0]} vs {top_corr[1]}\")\n",
    "print(f\"Coeficiente de regresión: {model.coef_[0]:.3f}, Intercepto: {model.intercept_:.3f}\")\n",
    "print(f\"R²: {r2:.3f}\")"
   ]
  },
  {
   "cell_type": "code",
   "execution_count": 33,
   "metadata": {},
   "outputs": [
    {
     "name": "stdout",
     "output_type": "stream",
     "text": [
      "\n",
      "Top 10 correlaciones para: Entire home/apt\n",
      "number_of_reviews            reviews_per_month              0.475523\n",
      "review_scores_cleanliness    review_scores_communication    0.441620\n",
      "review_scores_communication  number_of_reviews              0.232360\n",
      "review_scores_cleanliness    number_of_reviews              0.176732\n",
      "price                        reviews_per_month              0.097708\n",
      "review_scores_communication  reviews_per_month              0.084369\n",
      "availability_365             number_of_reviews              0.078324\n",
      "price                        number_of_reviews              0.073819\n",
      "                             review_scores_communication    0.073189\n",
      "                             review_scores_cleanliness      0.070919\n",
      "dtype: float64\n",
      "\n",
      "Top 10 correlaciones para: Private room\n",
      "number_of_reviews            reviews_per_month              0.575363\n",
      "review_scores_cleanliness    review_scores_communication    0.448512\n",
      "review_scores_communication  number_of_reviews              0.312934\n",
      "review_scores_cleanliness    number_of_reviews              0.259506\n",
      "price                        number_of_reviews              0.185511\n",
      "                             reviews_per_month              0.183892\n",
      "review_scores_communication  reviews_per_month              0.147455\n",
      "price                        review_scores_communication    0.129323\n",
      "                             review_scores_cleanliness      0.129217\n",
      "host_acceptance_rate         reviews_per_month              0.113669\n",
      "dtype: float64\n",
      "\n",
      "Top 10 correlaciones para: Hotel room\n",
      "number_of_reviews            reviews_per_month              0.948972\n",
      "review_scores_cleanliness    review_scores_communication    0.457504\n",
      "price                        reviews_per_month              0.412125\n",
      "                             number_of_reviews              0.409609\n",
      "                             review_scores_communication    0.325376\n",
      "review_scores_communication  number_of_reviews              0.243782\n",
      "                             reviews_per_month              0.224818\n",
      "host_acceptance_rate         availability_365               0.158364\n",
      "review_scores_cleanliness    availability_365               0.144492\n",
      "price                        review_scores_cleanliness      0.132092\n",
      "dtype: float64\n",
      "\n",
      "Top 10 correlaciones para: Shared room\n",
      "review_scores_communication  number_of_reviews              0.978106\n",
      "host_acceptance_rate         availability_365               0.870874\n",
      "                             reviews_per_month              0.666783\n",
      "price                        availability_365               0.635687\n",
      "                             number_of_reviews              0.624120\n",
      "host_acceptance_rate         price                          0.615382\n",
      "availability_365             reviews_per_month              0.567505\n",
      "number_of_reviews            reviews_per_month              0.542436\n",
      "review_scores_cleanliness    availability_365               0.507937\n",
      "price                        review_scores_communication    0.500103\n",
      "dtype: float64\n"
     ]
    }
   ],
   "source": [
    "for room in room_types:\n",
    "    print(f\"\\nTop 10 correlaciones para: {room}\")\n",
    "    room_df = df_clean[df_clean['room_type'] == room][heatmap]\n",
    "    corr_matrix = room_df.corr().abs()\n",
    "    corr_pairs = corr_matrix.where(np.triu(np.ones(corr_matrix.shape), k=1).astype(bool)).stack()\n",
    "    top_10 = corr_pairs.sort_values(ascending=False).head(10)\n",
    "    print(top_10)"
   ]
  },
  {
   "cell_type": "code",
   "execution_count": 34,
   "metadata": {},
   "outputs": [],
   "source": [
    "cuantitativas = [\n",
    "    'host_acceptance_rate', 'host_is_superhost', 'host_total_listings_count',\n",
    "    'accommodates', 'bedrooms', 'price', 'review_scores_value', 'reviews_per_month'\n",
    "]"
   ]
  },
  {
   "cell_type": "code",
   "execution_count": 36,
   "metadata": {},
   "outputs": [
    {
     "ename": "KeyError",
     "evalue": "\"['host_is_superhost', 'host_total_listings_count', 'accommodates', 'bedrooms', 'review_scores_value'] not in index\"",
     "output_type": "error",
     "traceback": [
      "\u001b[31m---------------------------------------------------------------------------\u001b[39m",
      "\u001b[31mKeyError\u001b[39m                                  Traceback (most recent call last)",
      "\u001b[36mCell\u001b[39m\u001b[36m \u001b[39m\u001b[32mIn[36]\u001b[39m\u001b[32m, line 2\u001b[39m\n\u001b[32m      1\u001b[39m \u001b[38;5;28;01mfor\u001b[39;00m target \u001b[38;5;129;01min\u001b[39;00m cuantitativas:\n\u001b[32m----> \u001b[39m\u001b[32m2\u001b[39m     X = \u001b[43mdf_clean\u001b[49m\u001b[43m[\u001b[49m\u001b[43m[\u001b[49m\u001b[43mcol\u001b[49m\u001b[43m \u001b[49m\u001b[38;5;28;43;01mfor\u001b[39;49;00m\u001b[43m \u001b[49m\u001b[43mcol\u001b[49m\u001b[43m \u001b[49m\u001b[38;5;129;43;01min\u001b[39;49;00m\u001b[43m \u001b[49m\u001b[43mcuantitativas\u001b[49m\u001b[43m \u001b[49m\u001b[38;5;28;43;01mif\u001b[39;49;00m\u001b[43m \u001b[49m\u001b[43mcol\u001b[49m\u001b[43m \u001b[49m\u001b[43m!=\u001b[49m\u001b[43m \u001b[49m\u001b[43mtarget\u001b[49m\u001b[43m]\u001b[49m\u001b[43m]\u001b[49m\n\u001b[32m      3\u001b[39m     y = df_clean[target]\n",
      "\u001b[36mFile \u001b[39m\u001b[32m/Library/Frameworks/Python.framework/Versions/3.12/lib/python3.12/site-packages/pandas/core/frame.py:4108\u001b[39m, in \u001b[36mDataFrame.__getitem__\u001b[39m\u001b[34m(self, key)\u001b[39m\n\u001b[32m   4106\u001b[39m     \u001b[38;5;28;01mif\u001b[39;00m is_iterator(key):\n\u001b[32m   4107\u001b[39m         key = \u001b[38;5;28mlist\u001b[39m(key)\n\u001b[32m-> \u001b[39m\u001b[32m4108\u001b[39m     indexer = \u001b[38;5;28;43mself\u001b[39;49m\u001b[43m.\u001b[49m\u001b[43mcolumns\u001b[49m\u001b[43m.\u001b[49m\u001b[43m_get_indexer_strict\u001b[49m\u001b[43m(\u001b[49m\u001b[43mkey\u001b[49m\u001b[43m,\u001b[49m\u001b[43m \u001b[49m\u001b[33;43m\"\u001b[39;49m\u001b[33;43mcolumns\u001b[39;49m\u001b[33;43m\"\u001b[39;49m\u001b[43m)\u001b[49m[\u001b[32m1\u001b[39m]\n\u001b[32m   4110\u001b[39m \u001b[38;5;66;03m# take() does not accept boolean indexers\u001b[39;00m\n\u001b[32m   4111\u001b[39m \u001b[38;5;28;01mif\u001b[39;00m \u001b[38;5;28mgetattr\u001b[39m(indexer, \u001b[33m\"\u001b[39m\u001b[33mdtype\u001b[39m\u001b[33m\"\u001b[39m, \u001b[38;5;28;01mNone\u001b[39;00m) == \u001b[38;5;28mbool\u001b[39m:\n",
      "\u001b[36mFile \u001b[39m\u001b[32m/Library/Frameworks/Python.framework/Versions/3.12/lib/python3.12/site-packages/pandas/core/indexes/base.py:6200\u001b[39m, in \u001b[36mIndex._get_indexer_strict\u001b[39m\u001b[34m(self, key, axis_name)\u001b[39m\n\u001b[32m   6197\u001b[39m \u001b[38;5;28;01melse\u001b[39;00m:\n\u001b[32m   6198\u001b[39m     keyarr, indexer, new_indexer = \u001b[38;5;28mself\u001b[39m._reindex_non_unique(keyarr)\n\u001b[32m-> \u001b[39m\u001b[32m6200\u001b[39m \u001b[38;5;28;43mself\u001b[39;49m\u001b[43m.\u001b[49m\u001b[43m_raise_if_missing\u001b[49m\u001b[43m(\u001b[49m\u001b[43mkeyarr\u001b[49m\u001b[43m,\u001b[49m\u001b[43m \u001b[49m\u001b[43mindexer\u001b[49m\u001b[43m,\u001b[49m\u001b[43m \u001b[49m\u001b[43maxis_name\u001b[49m\u001b[43m)\u001b[49m\n\u001b[32m   6202\u001b[39m keyarr = \u001b[38;5;28mself\u001b[39m.take(indexer)\n\u001b[32m   6203\u001b[39m \u001b[38;5;28;01mif\u001b[39;00m \u001b[38;5;28misinstance\u001b[39m(key, Index):\n\u001b[32m   6204\u001b[39m     \u001b[38;5;66;03m# GH 42790 - Preserve name from an Index\u001b[39;00m\n",
      "\u001b[36mFile \u001b[39m\u001b[32m/Library/Frameworks/Python.framework/Versions/3.12/lib/python3.12/site-packages/pandas/core/indexes/base.py:6252\u001b[39m, in \u001b[36mIndex._raise_if_missing\u001b[39m\u001b[34m(self, key, indexer, axis_name)\u001b[39m\n\u001b[32m   6249\u001b[39m     \u001b[38;5;28;01mraise\u001b[39;00m \u001b[38;5;167;01mKeyError\u001b[39;00m(\u001b[33mf\u001b[39m\u001b[33m\"\u001b[39m\u001b[33mNone of [\u001b[39m\u001b[38;5;132;01m{\u001b[39;00mkey\u001b[38;5;132;01m}\u001b[39;00m\u001b[33m] are in the [\u001b[39m\u001b[38;5;132;01m{\u001b[39;00maxis_name\u001b[38;5;132;01m}\u001b[39;00m\u001b[33m]\u001b[39m\u001b[33m\"\u001b[39m)\n\u001b[32m   6251\u001b[39m not_found = \u001b[38;5;28mlist\u001b[39m(ensure_index(key)[missing_mask.nonzero()[\u001b[32m0\u001b[39m]].unique())\n\u001b[32m-> \u001b[39m\u001b[32m6252\u001b[39m \u001b[38;5;28;01mraise\u001b[39;00m \u001b[38;5;167;01mKeyError\u001b[39;00m(\u001b[33mf\u001b[39m\u001b[33m\"\u001b[39m\u001b[38;5;132;01m{\u001b[39;00mnot_found\u001b[38;5;132;01m}\u001b[39;00m\u001b[33m not in index\u001b[39m\u001b[33m\"\u001b[39m)\n",
      "\u001b[31mKeyError\u001b[39m: \"['host_is_superhost', 'host_total_listings_count', 'accommodates', 'bedrooms', 'review_scores_value'] not in index\""
     ]
    }
   ],
   "source": [
    "for target in cuantitativas:\n",
    "    X = df_clean[[col for col in cuantitativas if col != target]]\n",
    "    y = df_clean[target]"
   ]
  }
 ],
 "metadata": {
  "kernelspec": {
   "display_name": "Python 3",
   "language": "python",
   "name": "python3"
  },
  "language_info": {
   "codemirror_mode": {
    "name": "ipython",
    "version": 3
   },
   "file_extension": ".py",
   "mimetype": "text/x-python",
   "name": "python",
   "nbconvert_exporter": "python",
   "pygments_lexer": "ipython3",
   "version": "3.12.4"
  }
 },
 "nbformat": 4,
 "nbformat_minor": 2
}
